{
 "cells": [
  {
   "cell_type": "code",
   "execution_count": 1,
   "metadata": {},
   "outputs": [],
   "source": [
    "from matplotlib import pyplot as plt\n",
    "import warnings\n",
    "warnings.filterwarnings('ignore')\n",
    "import AC_VC_scripts.figure_formatting as ff\n",
    "import AC_VC_scripts.loading_functions as lf\n",
    "import AC_VC_scripts.MAPseq_data_processing as mdp\n",
    "import AC_VC_scripts.fig2_plotting as pltt\n",
    "import AC_VC_scripts.helper_functions as hf\n",
    "%matplotlib inline"
   ]
  },
  {
   "cell_type": "code",
   "execution_count": 2,
   "metadata": {},
   "outputs": [],
   "source": [
    "gen_parameters = lf.load_gen_params()\n",
    "mice = gen_parameters['MICE']\n",
    "saving_path = gen_parameters['fig_saving_path']\n",
    "proj_path = gen_parameters['proj_path']\n",
    "ff.set_font_params(gen_parameters)"
   ]
  },
  {
   "cell_type": "markdown",
   "metadata": {},
   "source": [
    "Extended Data Fig. 4a"
   ]
  },
  {
   "cell_type": "code",
   "execution_count": null,
   "metadata": {},
   "outputs": [],
   "source": [
    "areas_to_plot = ['VISp','VISpl', 'VISpor', 'VISli', 'VISl', 'VISal', 'VISrl', 'VISa', 'VISam','VISpm']\n",
    "fig, axes = plt.subplots(\n",
    "    nrows=2,          \n",
    "    ncols=5,        \n",
    "    figsize=(6, 2),     \n",
    ")\n",
    "pltt.plot_area_projection_probs(areas_to_plot=areas_to_plot, gen_parameters=gen_parameters, fig=fig, axes=axes, only_plot_distance=False, include_pval=True, supplementary_fig = True)"
   ]
  }
 ],
 "metadata": {
  "kernelspec": {
   "display_name": "paperFigures",
   "language": "python",
   "name": "python3"
  },
  "language_info": {
   "codemirror_mode": {
    "name": "ipython",
    "version": 3
   },
   "file_extension": ".py",
   "mimetype": "text/x-python",
   "name": "python",
   "nbconvert_exporter": "python",
   "pygments_lexer": "ipython3",
   "version": "3.9.12"
  }
 },
 "nbformat": 4,
 "nbformat_minor": 2
}
