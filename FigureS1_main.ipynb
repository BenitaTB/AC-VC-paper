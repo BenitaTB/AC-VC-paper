{
 "cells": [
  {
   "cell_type": "code",
   "execution_count": 1,
   "metadata": {},
   "outputs": [],
   "source": [
    "from AC_VC_scripts import figure_formatting as ff\n",
    "import warnings\n",
    "warnings.filterwarnings('ignore')\n",
    "from matplotlib import pyplot as plt\n",
    "from AC_VC_scripts import loading_functions as lf\n",
    "from AC_VC_scripts import MAPseq_data_processing as mdp\n",
    "from AC_VC_scripts import helper_functions as hf\n",
    "from AC_VC_scripts import fig1_plotting as f1\n",
    "%matplotlib inline"
   ]
  },
  {
   "cell_type": "code",
   "execution_count": 2,
   "metadata": {},
   "outputs": [],
   "source": [
    "gen_parameters = lf.load_gen_params()\n",
    "mice = gen_parameters['MICE']\n",
    "saving_path = gen_parameters['fig_saving_path']\n",
    "proj_path = gen_parameters['proj_path']\n",
    "ff.set_font_params(gen_parameters)\n"
   ]
  },
  {
   "cell_type": "markdown",
   "metadata": {},
   "source": [
    "Extended Data Fig. 1b"
   ]
  },
  {
   "cell_type": "code",
   "execution_count": null,
   "metadata": {},
   "outputs": [],
   "source": [
    "fig, axes = plt.subplots(figsize=(1, 1))\n",
    "f1.plot_sssynth_res(gen_parameters=gen_parameters, fig=fig, axes=axes)"
   ]
  },
  {
   "cell_type": "markdown",
   "metadata": {},
   "source": [
    "Extended Data Fig. 1d"
   ]
  },
  {
   "cell_type": "code",
   "execution_count": null,
   "metadata": {},
   "outputs": [],
   "source": [
    "fig, (ax_entropy, ax_at) = plt.subplots(\n",
    "    1, 2, figsize=(5.6, 1.7), sharey=True,  \n",
    "    gridspec_kw={'wspace': 0.25}\n",
    ")\n",
    "f1.plot_entropy_AT_content_2d_hist(fig=fig, ax_entropy=ax_entropy, ax_at=ax_at, gen_parameters=gen_parameters)"
   ]
  },
  {
   "cell_type": "markdown",
   "metadata": {},
   "source": [
    "Extended Data Fig. 1e"
   ]
  },
  {
   "cell_type": "code",
   "execution_count": null,
   "metadata": {},
   "outputs": [],
   "source": [
    "fig, axes = plt.subplots(figsize=(1, 1))\n",
    "f1.plot_negative_control_UMI_counts(fig=fig, axes=axes, gen_parameters=gen_parameters)"
   ]
  }
 ],
 "metadata": {
  "kernelspec": {
   "display_name": "paperFigures",
   "language": "python",
   "name": "python3"
  },
  "language_info": {
   "codemirror_mode": {
    "name": "ipython",
    "version": 3
   },
   "file_extension": ".py",
   "mimetype": "text/x-python",
   "name": "python",
   "nbconvert_exporter": "python",
   "pygments_lexer": "ipython3",
   "version": "3.9.12"
  }
 },
 "nbformat": 4,
 "nbformat_minor": 2
}
