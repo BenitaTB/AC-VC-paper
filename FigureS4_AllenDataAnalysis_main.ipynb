{
 "cells": [
  {
   "cell_type": "markdown",
   "id": "42168a18-249b-4d7b-aef6-d41ca99037f2",
   "metadata": {
    "tags": []
   },
   "source": [
    "## This notebook makes the plots for the Allen Connectivity Dataset analysis part of Figure S4"
   ]
  },
  {
   "cell_type": "code",
   "execution_count": 1,
   "id": "fa6ecd95-cd35-47a9-9634-9741ba434ace",
   "metadata": {},
   "outputs": [],
   "source": [
    "#packages\n",
    "import os\n",
    "import numpy as np\n",
    "import matplotlib.pyplot as plt\n",
    "import pandas as pd\n",
    "import sys\n",
    "import imageio\n",
    "\n",
    "##ATTENTION: Change this line to wherever you have cloned the ccf repository\n",
    "sys.path.insert(0, 'C:\\\\Users\\\\egeaa\\\\Documents\\\\GitHub\\ccf_streamlines\\\\') \n",
    "import ccf_streamlines.projection as ccfproj\n",
    "\n",
    "from allensdk.core.mouse_connectivity_cache import MouseConnectivityCache\n",
    "from allensdk.core.reference_space_cache import ReferenceSpaceCache\n",
    "from pathlib import Path\n",
    "\n",
    "#import methods\n",
    "from FigureS4_AllenDataAnalysis_methods import *\n",
    "from analysis_utils import *"
   ]
  },
  {
   "cell_type": "code",
   "execution_count": 2,
   "id": "da8ec4d7-74c7-44a3-9e19-091e7354aead",
   "metadata": {},
   "outputs": [],
   "source": [
    "#IMPORTANT!!!! \n",
    "#Change this path to the data folder path in your system\n",
    "ops = {} \n",
    "ops['dataPath'] = os.path.join('Z:', 'home', 'shared', 'Alex_analysis_camp', 'data_axonsPaper')"
   ]
  },
  {
   "cell_type": "markdown",
   "id": "18c18fb7-20a0-47e5-a9e9-69fffb3ede32",
   "metadata": {
    "tags": []
   },
   "source": [
    "### Define variables for future use"
   ]
  },
  {
   "cell_type": "code",
   "execution_count": 3,
   "id": "188f8711-a843-471f-abde-53119a049713",
   "metadata": {
    "tags": []
   },
   "outputs": [],
   "source": [
    "ops['outputPath'] = os.path.join(ops['dataPath'],'analysisOutputs')\n",
    "ops['areas'] = ['V1','P','POR','LI', 'LM', 'AL','RL','A','AM', 'PM']\n",
    "ops['mm'] = 0.0393701\n",
    "ops['myColorsDict'] = {'HVA_colors' : {'V1': '#4A443F', \n",
    "                        'POR': '#FF8623', #4C9E57\n",
    "                        'P': '#FFB845', #AAC255\n",
    "                        'LI': '#F5501E', #79B855            \n",
    "                        'LM' : '#EB7C6C',\n",
    "                        'AL' : '#DB839F',                \n",
    "                        'RL' : '#BB83DB',\n",
    "                        'A': '#8172F0',\n",
    "                        'AM': '#4062F0',\n",
    "                        'PM': '#6CBEFF',                                                  \n",
    "                        'OUT': 'lightgray',\n",
    "                        'ventral': '#FF8623',\n",
    "                        'dorsal': '#4062F0',\n",
    "                        'dorso-ventral': '#A161A4'}} #FF8606\n",
    "ops['dorsal'] = ['AM', 'PM', 'A', 'RL'] \n",
    "ops['ventral'] = ['P', 'POR', 'LI', 'LM', 'AL']  \n",
    "ops['groups'] = ['V1', 'Ventral', 'Dorsal'] \n",
    "ops['colors_groups'] = ['#4A443F',ops['myColorsDict']['HVA_colors']['POR'],ops['myColorsDict']['HVA_colors']['AM']] \n",
    "ops['color_motor'] = '#FF9D00'\n",
    "ops['color_stim'] = '#1368F0'\n",
    "ops['color_full'] = '#C90700'\n",
    "ops['color_stimSub'] =  '#BF65C9' \n",
    "ops['color_motorSub'] = '#008D36'\n",
    "\n",
    "ops['azimuths'] = ['-108','-90','-72','-54','-36','-18','0','18','36','54','72','90','108']\n",
    "ops['freq_names'] = ['2', '4', '8', '16', '32', '64']\n",
    "\n",
    "ops['ref'] = imageio.imread(os.path.join(ops['dataPath'] ,'reference_maps','ReferenceMap_allen_black_nice.png'))\n",
    "ops['ref2'] = imageio.imread(os.path.join(ops['dataPath'] ,'reference_maps','ReferenceMap_allen_black_nice_uncropped.png'))\n",
    "ops['map_V1'] = imageio.imread(os.path.join(ops['dataPath'],'reference_maps','Reference_map_allen_V1Marked.png'))\n",
    "map_colors = imageio.imread(os.path.join(ops['dataPath'],'reference_maps','Reference_map_allen_colors.png'))\n",
    "ops['map_colors'] = map_colors[:,:,0:3]\n",
    "ops['colors_LUT'] = np.load(os.path.join(ops['dataPath'],'reference_maps','colorMap_LUT_allen.npy'), allow_pickle = True).item()\n",
    "       \n",
    "groups = np.load(os.path.join(ops['dataPath'],'injectionPosition_groups.npy'), allow_pickle=True).item()\n",
    "ops['ventralAnimals'] = groups['ventralAnimals']\n",
    "ops['dorsalAnimals'] = groups['dorsalAnimals']\n",
    "ops['posteriorAnimals'] = groups['posteriorAnimals']\n",
    "ops['anteriorAnimals'] = groups['anteriorAnimals']"
   ]
  },
  {
   "cell_type": "code",
   "execution_count": 4,
   "id": "44b25511-0f93-4510-a2f9-a2df6dda3b78",
   "metadata": {},
   "outputs": [],
   "source": [
    "##ATTENTION: Change this line to wherever you have cloned the ccf repository\n",
    "sys.path.insert(0, 'C:\\\\Users\\\\egeaa\\\\Documents\\\\GitHub\\ccf_streamlines\\\\') \n",
    "import ccf_streamlines.projection as ccfproj\n",
    "\n",
    "from allensdk.core.mouse_connectivity_cache import MouseConnectivityCache\n",
    "from allensdk.core.reference_space_cache import ReferenceSpaceCache\n",
    "from pathlib import Path\n",
    "\n",
    "#useful\n",
    "#https://allensdk.readthedocs.io/en/stable/_static/examples/nb/mouse_connectivity.html\n",
    "outputPath = os.path.join(ops['dataPath'], 'Allen_connectivity_analysis')\n",
    "\n",
    "#get df with all experiments\n",
    "mcc = MouseConnectivityCache(manifest_file=Path(outputPath) / 'manifest.json')\n",
    "rsp = mcc.get_reference_space()\n",
    "structure_tree = mcc.get_structure_tree()\n",
    "all_experiments = mcc.get_experiments(dataframe=True)\n",
    "\n",
    "idx =[]\n",
    "for i in range(len(all_experiments)):\n",
    "    if 'AUD'in all_experiments['structure_abbrev'].iloc[i]:\n",
    "        idx.append(i)\n",
    "\n",
    "Ac_exp = all_experiments.iloc[np.array(idx)] #dataframe with all experiments that contain auditory cortex as part of the injection site"
   ]
  },
  {
   "cell_type": "code",
   "execution_count": null,
   "id": "2a6a77bc-285d-4c4b-9c35-27503ca921b8",
   "metadata": {},
   "outputs": [
    {
     "name": "stderr",
     "output_type": "stream",
     "text": [
      " 11%|█████████▎                                                                          | 1/9 [00:15<02:07, 15.89s/it]"
     ]
    }
   ],
   "source": [
    "final_ids = [100149109, 116903230,120491896,146858006, 184159706,182090318,569994739,112881858,287223629]#criteria for choosing these can be found in manuscript methods\n",
    "\n",
    "idx = np.array([np.nonzero(np.array(Ac_exp['id']) == final_ids[j])[0] for j in range(len(final_ids))])\n",
    "df = Ac_exp.iloc[np.squeeze(idx)]\n",
    "\n",
    "#get projection intensity to each visual area for each experiment. Takes a while\n",
    "intensity_byArea_all = getProjectionIntensity(final_ids, df,ops,mcc,rsp,structure_tree, Ac_exp)"
   ]
  },
  {
   "cell_type": "code",
   "execution_count": null,
   "id": "35950b46-cb73-4445-9d9d-e95f2ec76581",
   "metadata": {},
   "outputs": [],
   "source": [
    "#PLot the projection strength for each area, grouping experiments in to anterior and posterior, or as a function of A-P position\n",
    "plotProjectionStrength(df,intensity_byArea_all, ops)"
   ]
  },
  {
   "cell_type": "code",
   "execution_count": null,
   "id": "23379581-42b7-4ab5-b4e8-b73869ad63b3",
   "metadata": {},
   "outputs": [],
   "source": [
    "#PLot averaged projection intensity on cortical map, grouped by AP position\n",
    "plotProjectionIntensity_onCortex(df, ops, final_ids)"
   ]
  }
 ],
 "metadata": {
  "kernelspec": {
   "display_name": "Python 3 (ipykernel)",
   "language": "python",
   "name": "python3"
  },
  "language_info": {
   "codemirror_mode": {
    "name": "ipython",
    "version": 3
   },
   "file_extension": ".py",
   "mimetype": "text/x-python",
   "name": "python",
   "nbconvert_exporter": "python",
   "pygments_lexer": "ipython3",
   "version": "3.9.12"
  }
 },
 "nbformat": 4,
 "nbformat_minor": 5
}
